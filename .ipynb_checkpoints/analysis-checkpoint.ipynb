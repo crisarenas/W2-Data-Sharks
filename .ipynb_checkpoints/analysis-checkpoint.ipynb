{
 "cells": [
  {
   "cell_type": "markdown",
   "metadata": {},
   "source": [
    "# Shark attack clean"
   ]
  },
  {
   "cell_type": "code",
   "execution_count": 5,
   "metadata": {},
   "outputs": [],
   "source": [
    "import pandas as pd\n",
    "import seaborn as sns\n",
    "import matplotlib.pyplot as plt\n",
    "import numpy as np\n",
    "import re"
   ]
  },
  {
   "cell_type": "code",
   "execution_count": 14,
   "metadata": {},
   "outputs": [
    {
     "data": {
      "text/html": [
       "<div>\n",
       "<style scoped>\n",
       "    .dataframe tbody tr th:only-of-type {\n",
       "        vertical-align: middle;\n",
       "    }\n",
       "\n",
       "    .dataframe tbody tr th {\n",
       "        vertical-align: top;\n",
       "    }\n",
       "\n",
       "    .dataframe thead th {\n",
       "        text-align: right;\n",
       "    }\n",
       "</style>\n",
       "<table border=\"1\" class=\"dataframe\">\n",
       "  <thead>\n",
       "    <tr style=\"text-align: right;\">\n",
       "      <th></th>\n",
       "      <th>Unnamed: 0</th>\n",
       "      <th>Date</th>\n",
       "      <th>Country</th>\n",
       "      <th>Area</th>\n",
       "      <th>Location</th>\n",
       "      <th>Activity</th>\n",
       "      <th>Age</th>\n",
       "      <th>Time</th>\n",
       "      <th>Species</th>\n",
       "      <th>Month</th>\n",
       "      <th>Fatal</th>\n",
       "      <th>Sex</th>\n",
       "    </tr>\n",
       "  </thead>\n",
       "  <tbody>\n",
       "    <tr>\n",
       "      <th>0</th>\n",
       "      <td>0</td>\n",
       "      <td>25-Jun-2018</td>\n",
       "      <td>USA</td>\n",
       "      <td>California</td>\n",
       "      <td>Oceanside, San Diego County</td>\n",
       "      <td>non representative</td>\n",
       "      <td>57</td>\n",
       "      <td>evening</td>\n",
       "      <td>White shark</td>\n",
       "      <td>June</td>\n",
       "      <td>N</td>\n",
       "      <td>F</td>\n",
       "    </tr>\n",
       "    <tr>\n",
       "      <th>1</th>\n",
       "      <td>1</td>\n",
       "      <td>18-Jun-2018</td>\n",
       "      <td>USA</td>\n",
       "      <td>Georgia</td>\n",
       "      <td>St. Simon Island, Glynn County</td>\n",
       "      <td>walking</td>\n",
       "      <td>11</td>\n",
       "      <td>Unkown</td>\n",
       "      <td>White shark</td>\n",
       "      <td>June</td>\n",
       "      <td>N</td>\n",
       "      <td>F</td>\n",
       "    </tr>\n",
       "    <tr>\n",
       "      <th>2</th>\n",
       "      <td>2</td>\n",
       "      <td>09-Jun-2018</td>\n",
       "      <td>USA</td>\n",
       "      <td>Hawaii</td>\n",
       "      <td>Habush, Oahu</td>\n",
       "      <td>surfing</td>\n",
       "      <td>48</td>\n",
       "      <td>Unkown</td>\n",
       "      <td>White shark</td>\n",
       "      <td>June</td>\n",
       "      <td>N</td>\n",
       "      <td>M</td>\n",
       "    </tr>\n",
       "    <tr>\n",
       "      <th>3</th>\n",
       "      <td>3</td>\n",
       "      <td>08-Jun-2018</td>\n",
       "      <td>AUSTRALIA</td>\n",
       "      <td>New South Wales</td>\n",
       "      <td>Arrawarra Headland</td>\n",
       "      <td>surfing</td>\n",
       "      <td>27.34582218257508</td>\n",
       "      <td>Unkown</td>\n",
       "      <td>2 m shark</td>\n",
       "      <td>June</td>\n",
       "      <td>N</td>\n",
       "      <td>M</td>\n",
       "    </tr>\n",
       "    <tr>\n",
       "      <th>4</th>\n",
       "      <td>4</td>\n",
       "      <td>04-Jun-2018</td>\n",
       "      <td>MEXICO</td>\n",
       "      <td>Colima</td>\n",
       "      <td>La Ticla</td>\n",
       "      <td>diving</td>\n",
       "      <td>27.34582218257508</td>\n",
       "      <td>Unkown</td>\n",
       "      <td>Tiger shark, 3m</td>\n",
       "      <td>June</td>\n",
       "      <td>N</td>\n",
       "      <td>M</td>\n",
       "    </tr>\n",
       "    <tr>\n",
       "      <th>...</th>\n",
       "      <td>...</td>\n",
       "      <td>...</td>\n",
       "      <td>...</td>\n",
       "      <td>...</td>\n",
       "      <td>...</td>\n",
       "      <td>...</td>\n",
       "      <td>...</td>\n",
       "      <td>...</td>\n",
       "      <td>...</td>\n",
       "      <td>...</td>\n",
       "      <td>...</td>\n",
       "      <td>...</td>\n",
       "    </tr>\n",
       "    <tr>\n",
       "      <th>6297</th>\n",
       "      <td>6297</td>\n",
       "      <td>Before 1903</td>\n",
       "      <td>AUSTRALIA</td>\n",
       "      <td>Western Australia</td>\n",
       "      <td>Roebuck Bay</td>\n",
       "      <td>non representative</td>\n",
       "      <td>27.34582218257508</td>\n",
       "      <td>Unkown</td>\n",
       "      <td>White shark</td>\n",
       "      <td>Unkown</td>\n",
       "      <td>F</td>\n",
       "      <td>M</td>\n",
       "    </tr>\n",
       "    <tr>\n",
       "      <th>6298</th>\n",
       "      <td>6298</td>\n",
       "      <td>Before 1903</td>\n",
       "      <td>AUSTRALIA</td>\n",
       "      <td>Western Australia</td>\n",
       "      <td>Unkown</td>\n",
       "      <td>diving</td>\n",
       "      <td>27.34582218257508</td>\n",
       "      <td>Unkown</td>\n",
       "      <td>White shark</td>\n",
       "      <td>Unkown</td>\n",
       "      <td>F</td>\n",
       "      <td>M</td>\n",
       "    </tr>\n",
       "    <tr>\n",
       "      <th>6299</th>\n",
       "      <td>6299</td>\n",
       "      <td>1900-1905</td>\n",
       "      <td>USA</td>\n",
       "      <td>North Carolina</td>\n",
       "      <td>Ocracoke Inlet</td>\n",
       "      <td>swimming</td>\n",
       "      <td>27.34582218257508</td>\n",
       "      <td>Unkown</td>\n",
       "      <td>White shark</td>\n",
       "      <td>Unkown</td>\n",
       "      <td>F</td>\n",
       "      <td>M</td>\n",
       "    </tr>\n",
       "    <tr>\n",
       "      <th>6300</th>\n",
       "      <td>6300</td>\n",
       "      <td>1883-1889</td>\n",
       "      <td>PANAMA</td>\n",
       "      <td>Unkown</td>\n",
       "      <td>Panama Bay 8ÂºN, 79ÂºW</td>\n",
       "      <td>non representative</td>\n",
       "      <td>27.34582218257508</td>\n",
       "      <td>Unkown</td>\n",
       "      <td>White shark</td>\n",
       "      <td>Unkown</td>\n",
       "      <td>F</td>\n",
       "      <td>M</td>\n",
       "    </tr>\n",
       "    <tr>\n",
       "      <th>6301</th>\n",
       "      <td>6301</td>\n",
       "      <td>1845-1853</td>\n",
       "      <td>CEYLON (SRI LANKA)</td>\n",
       "      <td>Eastern Province</td>\n",
       "      <td>Below the English fort, Trincomalee</td>\n",
       "      <td>swimming</td>\n",
       "      <td>15</td>\n",
       "      <td>Unkown</td>\n",
       "      <td>White shark</td>\n",
       "      <td>Unkown</td>\n",
       "      <td>F</td>\n",
       "      <td>M</td>\n",
       "    </tr>\n",
       "  </tbody>\n",
       "</table>\n",
       "<p>6302 rows × 12 columns</p>\n",
       "</div>"
      ],
      "text/plain": [
       "      Unnamed: 0         Date             Country               Area  \\\n",
       "0              0  25-Jun-2018                 USA         California   \n",
       "1              1  18-Jun-2018                 USA            Georgia   \n",
       "2              2  09-Jun-2018                 USA             Hawaii   \n",
       "3              3  08-Jun-2018           AUSTRALIA    New South Wales   \n",
       "4              4  04-Jun-2018              MEXICO             Colima   \n",
       "...          ...          ...                 ...                ...   \n",
       "6297        6297  Before 1903           AUSTRALIA  Western Australia   \n",
       "6298        6298  Before 1903           AUSTRALIA  Western Australia   \n",
       "6299        6299    1900-1905                 USA     North Carolina   \n",
       "6300        6300    1883-1889              PANAMA             Unkown   \n",
       "6301        6301    1845-1853  CEYLON (SRI LANKA)   Eastern Province   \n",
       "\n",
       "                                 Location            Activity  \\\n",
       "0             Oceanside, San Diego County  non representative   \n",
       "1          St. Simon Island, Glynn County             walking   \n",
       "2                            Habush, Oahu             surfing   \n",
       "3                      Arrawarra Headland             surfing   \n",
       "4                                La Ticla              diving   \n",
       "...                                   ...                 ...   \n",
       "6297                          Roebuck Bay  non representative   \n",
       "6298                               Unkown              diving   \n",
       "6299                       Ocracoke Inlet            swimming   \n",
       "6300               Panama Bay 8ÂºN, 79ÂºW  non representative   \n",
       "6301  Below the English fort, Trincomalee            swimming   \n",
       "\n",
       "                    Age     Time          Species   Month Fatal Sex  \n",
       "0                    57  evening      White shark    June     N   F  \n",
       "1                    11   Unkown      White shark    June     N   F  \n",
       "2                    48   Unkown      White shark    June     N   M  \n",
       "3     27.34582218257508   Unkown        2 m shark    June     N   M  \n",
       "4     27.34582218257508   Unkown  Tiger shark, 3m    June     N   M  \n",
       "...                 ...      ...              ...     ...   ...  ..  \n",
       "6297  27.34582218257508   Unkown      White shark  Unkown     F   M  \n",
       "6298  27.34582218257508   Unkown      White shark  Unkown     F   M  \n",
       "6299  27.34582218257508   Unkown      White shark  Unkown     F   M  \n",
       "6300  27.34582218257508   Unkown      White shark  Unkown     F   M  \n",
       "6301                 15   Unkown      White shark  Unkown     F   M  \n",
       "\n",
       "[6302 rows x 12 columns]"
      ]
     },
     "execution_count": 14,
     "metadata": {},
     "output_type": "execute_result"
    }
   ],
   "source": [
    "data = pd.read_csv(\"my_attack.csv\",encoding='ISO-8859-1')\n",
    "data"
   ]
  },
  {
   "cell_type": "markdown",
   "metadata": {},
   "source": [
    "data = data.drop('Unnamed: 0', axis=1)"
   ]
  },
  {
   "cell_type": "markdown",
   "metadata": {},
   "source": [
    " "
   ]
  },
  {
   "cell_type": "markdown",
   "metadata": {},
   "source": [
    " "
   ]
  },
  {
   "cell_type": "markdown",
   "metadata": {},
   "source": [
    " "
   ]
  },
  {
   "cell_type": "markdown",
   "metadata": {},
   "source": [
    " "
   ]
  },
  {
   "cell_type": "markdown",
   "metadata": {},
   "source": [
    " "
   ]
  },
  {
   "cell_type": "markdown",
   "metadata": {},
   "source": [
    "# Análisis de datos"
   ]
  },
  {
   "cell_type": "markdown",
   "metadata": {},
   "source": [
    "### Sexo"
   ]
  },
  {
   "cell_type": "markdown",
   "metadata": {},
   "source": [
    "637 mujeres frente a 5661 hombres.\n",
    "89.84% de las personas que tienen cualquier tipo de accidente con tiburones son hombres.\n",
    "No porque los tiburones prefieran a los hombres si no porque probablemente son los que realicen las actividades que más los ponen en riesgo. Vamos a verlo."
   ]
  },
  {
   "cell_type": "code",
   "execution_count": null,
   "metadata": {},
   "outputs": [],
   "source": [
    "data[data.Sex == 'M'].value_counts()"
   ]
  },
  {
   "cell_type": "code",
   "execution_count": null,
   "metadata": {},
   "outputs": [],
   "source": []
  },
  {
   "cell_type": "code",
   "execution_count": null,
   "metadata": {},
   "outputs": [],
   "source": []
  },
  {
   "cell_type": "code",
   "execution_count": null,
   "metadata": {},
   "outputs": [],
   "source": []
  },
  {
   "cell_type": "code",
   "execution_count": null,
   "metadata": {},
   "outputs": [],
   "source": []
  },
  {
   "cell_type": "code",
   "execution_count": null,
   "metadata": {},
   "outputs": [],
   "source": []
  },
  {
   "cell_type": "code",
   "execution_count": null,
   "metadata": {},
   "outputs": [],
   "source": []
  }
 ],
 "metadata": {
  "kernelspec": {
   "display_name": "Python 3",
   "language": "python",
   "name": "python3"
  },
  "language_info": {
   "codemirror_mode": {
    "name": "ipython",
    "version": 3
   },
   "file_extension": ".py",
   "mimetype": "text/x-python",
   "name": "python",
   "nbconvert_exporter": "python",
   "pygments_lexer": "ipython3",
   "version": "3.8.6"
  }
 },
 "nbformat": 4,
 "nbformat_minor": 4
}
